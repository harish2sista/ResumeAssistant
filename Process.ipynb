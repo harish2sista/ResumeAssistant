{
 "cells": [
  {
   "cell_type": "markdown",
   "id": "d4b09256-8097-4588-938f-37a2f16507c4",
   "metadata": {},
   "source": [
    "# Workbench for ResumeAssistant"
   ]
  },
  {
   "cell_type": "code",
   "execution_count": 32,
   "id": "79634a30-eea3-403d-935a-a66ce9bd5dcb",
   "metadata": {},
   "outputs": [],
   "source": [
    "from pdf2image import convert_from_path\n",
    "# ImageWorker takes in the path to jpg resume image and returns the contents of the resume in a json format. \n",
    "from resumeassistant.operator.worker import ImageWorker, TextWorker\n",
    "from resumeassistant.data.candidate_record import Record, QA_Knowledge\n",
    "from openai import OpenAI\n",
    "import json"
   ]
  },
  {
   "cell_type": "markdown",
   "id": "4ad03abd-9b24-4e84-924b-07b7bd8f27ff",
   "metadata": {},
   "source": [
    "# PDF to jpg image converter function\n",
    "This function takes the input path for pdf-resume and output path for resume image. The output images are stored in 'jpg' format. "
   ]
  },
  {
   "cell_type": "code",
   "execution_count": 33,
   "id": "9bffade2-11d4-42ee-bd17-d24ce4ec87d3",
   "metadata": {},
   "outputs": [],
   "source": [
    "def get_img(pdf_path, img_path):\n",
    "      # Method for converting pdf resumes to jpg images. \n",
    "      images = convert_from_path(pdf_path)\n",
    "      # print(type(images))\n",
    "      for i in range(len(images)):\n",
    "        \n",
    "            # Save pages as images in the pdf\n",
    "          images[i].save(img_path + str(i) +'.jpg', 'JPEG')"
   ]
  },
  {
   "cell_type": "markdown",
   "id": "e22a3b50-9801-47d7-89c1-108bc0e3c9a5",
   "metadata": {},
   "source": [
    "This is the code to extract OpenAI key stored in `gpt_key.json` file. \\\n",
    "Format: \\\n",
    "    ```{ \n",
    "\t\"api_key\": \\<open_ai_key\\>\n",
    "    }```"
   ]
  },
  {
   "cell_type": "code",
   "execution_count": 34,
   "id": "35ffad11-5857-4851-bad4-e63cb22a1ade",
   "metadata": {},
   "outputs": [],
   "source": [
    "with open('gpt_key.json', 'r') as file:\n",
    "      data = json.load(file)\n",
    "      api_key = data[\"api_key\"]"
   ]
  },
  {
   "cell_type": "markdown",
   "id": "4459786a-75de-4155-b004-ac40c32c1b23",
   "metadata": {},
   "source": [
    "## Resume Parsing\n",
    "This is the code for converting the PDF resume to an image and parsing it using \"GPT-4o\". "
   ]
  },
  {
   "cell_type": "code",
   "execution_count": 35,
   "id": "a2858039-6d9f-4c40-b436-ec9e47dc1ecd",
   "metadata": {},
   "outputs": [
    {
     "name": "stdout",
     "output_type": "stream",
     "text": [
      "{'name': 'Harish Sista', 'contact_info': {'phone': '(201) 310-5683', 'email': 'hsita@stevens.edu', 'address': '2642 28th St, Apt 4F, Astoria, NY-11102'}, 'summary': 'Ph.D. candidate researching in ML and NLP with 7+ years of experience working with ML models, Big Data, and Cloud Computing platforms and 2+ years of experience working in a professional environment. Spreadheaded an Evidence Extraction and Fact Verification model using Prompt Engineering and tested it with various LLMs. Invented a Black Box Optimization model for online hyperparameter fine-tuning, significantly enhancing model performance in real-time applications.', 'skills': {'Programming_Languages': ['Python', 'SQL', 'NoSQL', 'C++', 'Java', 'Swift', 'HTML'], 'AI_Tools': ['PyTorch', 'HuggingFace', 'TensorFlow', 'SciKitLearn', 'NumPy', 'Pandas', 'Matplotlib', 'Seaborn'], 'LLMs': ['GPT', 'LLAMA', 'FireWorks AI', 'BLOOM', 'BERT'], 'Data_Engineering': ['AWS EC2', 'Lightning AI', 'Data Pipelines', 'Data Augmentation'], 'Cloud_Platforms': ['AWS', 'Google Cloud', 'Heroku', 'GIT'], 'Research_Interests': ['NLP', 'Generative AI', 'AutoML', 'Data Science']}, 'education': [{'degree': 'Ph.D. in Machine Learning', 'department': 'Computer Engineering', 'institution': 'Stevens Institute of Technology', 'location': 'Hoboken', 'date': '01/2018 - Present'}, {'degree': 'M.Eng. in Software Engineering', 'department': 'Electrical Engineering', 'institution': 'Stevens Institute of Technology', 'location': 'Hoboken', 'date': '01/2014 - 12/2015'}, {'degree': 'B.Eng. in Electronics and Communication Engineering', 'institution': 'M.V.S.R. Engineering College', 'location': 'Hyderabad, TG, India', 'date': '08/2009 - 05/2013'}], 'research_experience': {'position': 'Infinity Lab', 'institution': 'Stevens Institute of Technology', 'location': 'Hoboken, NJ', 'date': '01/2018 - Present', 'responsibilities': ['Worked with various LLMs to address the challenges of Fact Verification using Prompt Engineering, Text Generation, Classification and Evidence Extraction Tasks.', 'Built various Python Libraries using Multiprocessing to work efficiently with big datasets.', 'Surveyed and implemented various Attention Networks, DNNs and Generative Models to perform NLP tasks of Data Extraction, Modeling, Regression, Ranking, and Classification.', 'Collaborated in creating various Scientific, social media, and Misinformation Datasets.', 'Developed an AI based its application to perform MoCA test for early detection of Alzheimer’s.', 'Organized and maintained hardware and software for the department Lab-Server and built a personal Machine Learning RIG.']}, 'work_experience': [{'position': 'Research Assistant', 'institution': 'Stevens Institute of Technology', 'location': 'Hoboken, NJ', 'date': '10/2018 - 09/2019', 'responsibilities': ['Created a chemistry literature dataset for the purpose of similarity search with search queries.', 'Preprocessed the dataset, using PDF conversion tools and NLTK library to remove the noise.', 'Produced a Novel Generative Ranking Model using Topic Modeling and KeyPhrase analysis, to extract most relevant papers related to the search query.']}, {'position': 'AI Engineer/iOS Developer', 'institution': 'Fresh Digital Group - NY', 'date': '07/2016 - 06/2017', 'responsibilities': ['Collaborated with Content Writers and Creative Team to individually design and deploy 30 chat applications for Amazon-Alexa which won appreciation from tech newsletters.', 'Developed various iOS, iMessage and tvOS applications in conjunction with several teams.', 'Helped comply obtain a preferred partnership with Amazon-Alexa and launching partnership with Microsoft-Cortana.']}], 'certifications': [{'title': 'Databases and SQL for Data Science with Python', 'issuer': 'IBM, Coursera', 'date': '09/09/2024'}, {'title': 'Foundations of Objective-C App Development', 'issuer': 'University of California, Irvine', 'date': '04/04/2016'}]}\n"
     ]
    }
   ],
   "source": [
    "client = OpenAI(api_key=api_key)\n",
    "get_img('Resume_PhD.pdf', './Harish_Resume')\n",
    "\n",
    "sys_prompt = \"You are a resume parser. Given the image of the resume, parse every section and provide the output in a JSON format.\"\n",
    "user_prompt=\"Can you parse all sections of this resume?\"\n",
    "\n",
    "image_worker = ImageWorker(client=client, model_id=\"gpt-4o-mini\", sys_prompt=sys_prompt, user_prompt=user_prompt)\n",
    "parsed_resume = image_worker.get_output('Harish_Resume0.jpg')\n",
    "print(parsed_resume)"
   ]
  },
  {
   "cell_type": "markdown",
   "id": "f7061118-f685-4836-8cd0-646c24949a76",
   "metadata": {},
   "source": [
    "## Add CV and additional information\n",
    "The current_cv instance keeps a record of the most recent updated Cover Letter and additional information on work experience, projects, achievements, and certifications. \n",
    "\n",
    "### Input arguments:\n",
    "`resume`=Parsed resume (Dict). \\\n",
    "`cv` = Cover letter text. \\\n",
    "`add_skills` = Additional skills not mentioned in the resume (Dict). \\\n",
    "`add_work_experience` = Additional work experience not mentioned in the resume (Dict). \\\n",
    "`add_education` = Additional education not mentioned in the resume (Dict). \\\n",
    "`add_projects` = Additional Projects not mentioned in the resume (Dict). \\\n",
    "`add_achievements` = Additional achievements not mentioned in the resume (Dict). \\\n",
    "`add_certifications` = Additional certifications not mentioned in the resume (Dict). \n",
    "\n",
    "#### additional_information format:\n",
    "```{``` \\\n",
    "```\"information\": text,``` \\\n",
    "```\"organization\": text,``` \\\n",
    "```\"date\": \"dd/mm/yyyy - dd/mm/yyyy\" (or) \"dd/mm/yyyy\"``` \\\n",
    "```}```\n",
    "\n",
    "The job_listing instance keeps a record of the requirements and description of the job posting. "
   ]
  },
  {
   "cell_type": "code",
   "execution_count": 7,
   "id": "29a6c5a8-649f-4d08-b625-1a680a9ec18b",
   "metadata": {},
   "outputs": [
    {
     "name": "stdout",
     "output_type": "stream",
     "text": [
      "dict_keys(['name', 'contact', 'summary', 'skills', 'education', 'research_experience', 'work_experience', 'certifications'])\n"
     ]
    }
   ],
   "source": [
    "print(parsed_resume.keys())"
   ]
  },
  {
   "cell_type": "markdown",
   "id": "cf707847-93a0-406f-ba52-764d1e63b86c",
   "metadata": {},
   "source": [
    "## Resume Optimizer"
   ]
  },
  {
   "cell_type": "code",
   "execution_count": 8,
   "id": "b1962296-a716-41bb-9b5a-480f16577eb8",
   "metadata": {},
   "outputs": [],
   "source": [
    "def generate_resume(candidate_info, job_description):\n",
    "    ro_system_prompt = 'You are a resume optimizer. \\\n",
    "    Given the candidate information(#candidate_info) and the job description(#job_description), \\\n",
    "    rewrite the current resume to highlight the relevant skills, experience, and quantifiable achievements that match the job description. \\\n",
    "    Provide the output in a JSON format.'\n",
    "    \n",
    "    ro_user_prompt = f'#candidate_info: {candidate_info} \\\n",
    "                    \\n#job_description: {job_description}'\n",
    "    \n",
    "    ro_text_worker = TextWorker(client=client, model_id=\"gpt-4o-mini\", sys_prompt=ro_system_prompt, user_prompt=ro_user_prompt, json_format=True)\n",
    "    new_resume = ro_text_worker.get_output()\n",
    "    return new_resume\n",
    "# print(new_resume)"
   ]
  },
  {
   "cell_type": "markdown",
   "id": "963a0b0d-b45b-4490-beb0-6627f5947dfc",
   "metadata": {},
   "source": [
    "## Resume Screening\n",
    "In this section, the generated resume is screened based on how informative it is w.r.t the job posting. \n",
    "The resume screener gathers the keywords from the job description where the new resume fails to address, and a question requesting the missing information to address the unfulfilled requirements. \n"
   ]
  },
  {
   "cell_type": "code",
   "execution_count": 9,
   "id": "facf2e0e-418a-4fce-952c-dfba798e19cb",
   "metadata": {},
   "outputs": [],
   "source": [
    "def screen_resume_CL(resume, cover_leter, job_description):\n",
    "    ra_system_prompt = 'You are a resume and cover letter screener.\\\n",
    "                        given the current resume(#current_resume), cover letter(#current_cover_letter) and the \\\n",
    "                        job description(#job_description), \\\n",
    "                        provide keywords from the job description where the resume and the cover letter fail to address the requirements. \\\n",
    "                        Provide the keywords with a question describing how the resume and the cover letter fail to meet this requirement. \\\n",
    "                        Present the output in the following JSON output format: \\\n",
    "                        \\n\\t{\\\"keywords\\\": [{\"keyword\": system keyword, \"question\": system keyword question}]}'\n",
    "    # ra_user_prompt = f'#current_resume: {record.resume} \\\n",
    "                        #job_description: {job_description}'\n",
    "    \n",
    "    ra_user_prompt = f'#current_resume: {resume} \\\n",
    "                        #job_description: {job_description} \\\n",
    "                        #current_cover_letter: {cover_leter}' \n",
    "    \n",
    "    ra_text_worker = TextWorker(client=client, model_id=\"gpt-4o-mini\", sys_prompt=ra_system_prompt, user_prompt=ra_user_prompt, json_format=True)\n",
    "    system_insights = ra_text_worker.get_output()\n",
    "    return system_insights\n",
    "# print(system_insights)"
   ]
  },
  {
   "cell_type": "markdown",
   "id": "1357537e-0068-4c44-841c-e0436280de95",
   "metadata": {},
   "source": [
    "## Cover Letter Generation\n",
    "This is the code for generating the cover letter: "
   ]
  },
  {
   "cell_type": "code",
   "execution_count": 10,
   "id": "9c58ec11-f753-4edd-a5be-103b6de966bb",
   "metadata": {},
   "outputs": [],
   "source": [
    "def CL_generator(candidate_info, job_description):\n",
    "\n",
    "    cl_system_prompt = \"You are a cover letter generator, given the candidate information(#candidate_info) and job description(#job_description). \\\n",
    "                        Generate a cover letter relevant to the job description highlighting the candidate's skills and achievements\"\n",
    "    \n",
    "    cl_user_prompt = f'#candidate_info: {candidate_info} \\\n",
    "                        #job_description: {job_description}'\n",
    "    \n",
    "    \n",
    "    cl_text_worker = TextWorker(client=client, model_id=\"gpt-4o-mini\", sys_prompt=cl_system_prompt, user_prompt=cl_user_prompt)\n",
    "    new_cl = cl_text_worker.get_output()\n",
    "    return new_cl\n",
    "# print(new_cl)"
   ]
  },
  {
   "cell_type": "markdown",
   "id": "305747b4-3a20-425e-885f-8066cf8aacb9",
   "metadata": {},
   "source": [
    "## Add additional knowledge from "
   ]
  },
  {
   "cell_type": "code",
   "execution_count": 37,
   "id": "9a1eb67d-fd26-48b8-9567-a0bb73cacd47",
   "metadata": {},
   "outputs": [],
   "source": [
    "old_cl = \"Hello Hiring Team, \\nI am pursuing my Ph.D. in the Computer Engineering department at Stevens Institute of Technology; \\\n",
    "            my research is focused on Natural Language Processing. \\\n",
    "            I work on applications related to the areas of Misinformation Research and Investigative Journalism using Evidence Extraction, \\\n",
    "            Fact Verification and Key-Phrase analysis; I research and work with Generative Models, Deep Learning models, Attention Networks, \\\n",
    "            and Large Language Models for Extraction and Verification Tasks. \\\n",
    "            My Dissertation Project is based on Fact-Verification and Evidence-Extraction using an Explainable Prompt-Engineering Model \\\n",
    "            I proposed. \\nEven though I chose the use cases of NLP as the focus of my research, \\\n",
    "            my work is more comprehensive than NLP-based models; \\\n",
    "            I have also created a low-cost Derivative-Free Optimization Method for parameter optimization in ML; \\\n",
    "            I am working on obtaining a Provisional Patent for this research. \\\n",
    "            I am immensely passionate about learning and analyzing the underlying Mathematical Concepts of Machine Learning Models; \\\n",
    "            I like educating myself on all the specifics of any problem statement, following the motivation of the research, \\\n",
    "            chronological evolution of the Problem-Solution framework, and feature analysis from historical to the SOTA models. \\\n",
    "            \\nI am currently seeking a job opportunity to hone my skills and work with a proficient team for an inspirational \\\n",
    "            cause where AI can be efficacious. \\nRegards, \\nHarish Sista, Ph.D. candidate, \\nComputer Engineering Department, \\\n",
    "            \\nStevens Institute of Technology.\"\n",
    "\n",
    "record = Record(resume=parsed_resume, cl=old_cl)\n",
    "# with open('job_description.txt', 'r') as f:\n",
    "#     job_description = f.read()\n",
    "\n",
    "job_description = \"We are seeking a talented AI/ML Developer to join our innovative team. \\\n",
    "            The ideal candidate will have strong expertise in machine learning algorithms, \\\n",
    "            data preprocessing, model development, fine-tuning large language models (LLMs), \\\n",
    "            and working with big data. You will work on creating, deploying, \\\n",
    "            and optimizing AI models to solve real-world problems and enhance our products.\\n \\\n",
    "            \\nResponsibilities: \\\n",
    "            \\n\\nDesign and develop machine learning models. \\\n",
    "            \\n\\nPreprocess and analyze large datasets. \\\n",
    "            \\nImplement and optimize algorithms for performance and scalability. \\\n",
    "            \\nFine-tune large language models (LLMs) for specific applications. \\\n",
    "            \\nManage and analyze big data to derive insights and improve models. \\\n",
    "            \\nCollaborate with cross-functional teams to integrate AI solutions. \\\n",
    "            \\nStay up-to-date with the latest advancements in AI and ML technologies. \\\n",
    "            \\n\\nRequirements: \\\n",
    "            \\n5+ years of experience in working with AI/LLMs. \\\n",
    "            \\nBachelor\\'s or Master\\'s degree in Computer Science, Data Science, or a related field. \\\n",
    "            \\nProficiency in Python and ML frameworks such as TensorFlow, PyTorch, or scikit-learn. \\\n",
    "            \\nExperience with data preprocessing and feature engineering. \\\n",
    "            \\nStrong understanding of machine learning algorithms and techniques. \\\n",
    "            \\nProven experience in fine-tuning large language models. \\\n",
    "            \\nExperience with big data tools and technologies (e.g., Hadoop, Spark). \\\n",
    "            \\nExcellent problem-solving and analytical skills. \\\n",
    "            \\nWhat we offer: \\\n",
    "            \\n\\nCompetitive salary that reflects your skills, experience, and contributions to the company. \\\n",
    "            \\nFlexible working hours and remote work options to support your personal and professional life. \\\n",
    "            \\nFull reimbursement for business-related travel expenses for group meet-ups. \\\n",
    "            \\nIndividual benefits and bonuses. \\\n",
    "            \\nJoin us to work on cutting-edge AI projects and make a significant impact in a dynamic and collaborative environment!\""
   ]
  },
  {
   "cell_type": "markdown",
   "id": "883c7fb0-cb6e-40fd-ba7b-f566f118e489",
   "metadata": {},
   "source": [
    "## Analyze missing information using Resume screener"
   ]
  },
  {
   "cell_type": "code",
   "execution_count": 12,
   "id": "6a85585c-1a2c-4280-91c5-3e36f6936c5c",
   "metadata": {},
   "outputs": [
    {
     "name": "stdout",
     "output_type": "stream",
     "text": [
      "{'keywords': [{'keyword': '5+ years of experience in working with AI/LLMs', 'question': \"How does the resume demonstrate the applicant's 5+ years of experience specifically in working with AI/LLMs?\"}, {'keyword': 'Experience with big data tools and technologies (e.g., Hadoop, Spark)', 'question': 'Does the resume mention experience with big data tools and technologies like Hadoop or Spark as required by the job description?'}, {'keyword': 'Proficiency in Python and ML frameworks such as TensorFlow, PyTorch, or scikit-learn', 'question': \"How does the resume and cover letter explicitly confirm the applicant's proficiency in TensorFlow, PyTorch, or scikit-learn along with Python?\"}, {'keyword': 'Implement and optimize algorithms for performance and scalability', 'question': \"How does the resume detail the applicant's experience in implementing and optimizing algorithms for performance and scalability?\"}, {'keyword': 'Collaborate with cross-functional teams to integrate AI solutions', 'question': \"What examples does the resume provide regarding the applicant's collaboration with cross-functional teams to integrate AI solutions?\"}]}\n"
     ]
    }
   ],
   "source": [
    "key_questions = screen_resume_CL(record.resume, record.cl, job_description)\n",
    "print(key_questions)"
   ]
  },
  {
   "cell_type": "markdown",
   "id": "5631e2f6-3d1b-445d-915d-1113e2d9fd1b",
   "metadata": {},
   "source": [
    "## Add additional information generation"
   ]
  },
  {
   "cell_type": "code",
   "execution_count": 13,
   "id": "693e4096-62f2-45fd-ab2e-4b417975abdf",
   "metadata": {},
   "outputs": [
    {
     "name": "stdout",
     "output_type": "stream",
     "text": [
      "<class 'dict'>\n",
      "{'5+ years of experience in working with AI/LLMs': {'id': 0, 'answer': 'As a part of my six years of PhD research in NLP, I have worked on various projects based on knowledge extraction from scholarly data and evidence extraction and fact verification of social-media data using web-scraped real-world data. I used LLMs for building all these projects.'}, 'data preprocessing and feature engineering': {'id': 2, 'answer': \"In my PhD program, I have worked on different varieties of datasets like medical data(CORD-19, PubMed),                  social media data(CoVerifi), scholarly data(FEVER-dataset), and real-world data(AVeriTec).                  All these datasets use different feature spaces. To process these datasets                  I have used various feature engineering techniques like Prompt Engineering, Entity Extraction, key-word extraction,                  parts-of-speech tagging and text denoising using Python's RegEx library.\"}, 'collaborate with cross-functional teams to integrate AI solutions': {'id': 2, 'answer': \"In my previous job at 'Fresh Digital Group,' I have collaborated with various teams like content writers                  and UI designers to brainstorm on building structure for chat applications and designing UI for mobile applications.\"}}\n"
     ]
    }
   ],
   "source": [
    "add_knowledge = QA_Knowledge(0, key_questions)\n",
    "\n",
    "key_q2 = {'keywords': \n",
    "          [{'keyword': 'data preprocessing and feature engineering', \n",
    "            'question': 'Can you explain how your resume reflects proficiency in data preprocessing and feature engineering techniques?, \\\n",
    "            particularly scikit-learn?'}, \n",
    "           {'keyword': 'collaborate with cross-functional teams to integrate AI solutions', \n",
    "            'question': \"Can you provide examples from your resume that demonstrate your experience \\\n",
    "                  collaborating with cross-functional teams to integrate AI solutions?\"} \n",
    "           ]}\n",
    "\n",
    "add_knowledge.add_key_questions(2, key_q2)\n",
    "\n",
    "\n",
    "key_knowledge = {'5+ years of experience in working with AI/LLMs': \n",
    "                 {'question': 'How does the resume demonstrate at least 5 years of experience specifically working with \\\n",
    "                 AI and large language models (LLMs) in a direct capacity?',\n",
    "                    'answer': 'As a part of my six years of PhD research in NLP, I have worked on various projects based on knowledge extraction from scholarly data and evidence extraction and fact verification of social-media data using web-scraped real-world data. I used LLMs for building all these projects.'\n",
    "                 }, \n",
    "                 'data preprocessing and feature engineering':{ \n",
    "                'question': 'Can you explain how your resume reflects proficiency in data preprocessing and feature engineering techniques?',\n",
    "                 'answer': 'In my PhD program, I have worked on different varieties of datasets like medical data(CORD-19, PubMed), \\\n",
    "                 social media data(CoVerifi), scholarly data(FEVER-dataset), and real-world data(AVeriTec). \\\n",
    "                 All these datasets use different feature spaces. To process these datasets \\\n",
    "                 I have used various feature engineering techniques like Prompt Engineering, Entity Extraction, key-word extraction, \\\n",
    "                 parts-of-speech tagging and text denoising using Python\\'s RegEx library.'}, \n",
    "                 'Experience with big data tools and technologies (e.g., Hadoop, Spark)': { \n",
    "                  'question': 'How does the resume and cover letter demonstrate experience with big data tools and \\\n",
    "                  technologies such as Hadoop or Spark?',\n",
    "                 'answer': None}, \n",
    "                 'strong understanding of machine learning algorithms and techniques':{\n",
    "                  'question': 'How does your resume showcase a strong understanding of various machine learning \\\n",
    "                  algorithms and their techniques?',\n",
    "                 'answer': None}, \n",
    "                 'collaborate with cross-functional teams to integrate AI solutions': { \n",
    "                  'question': 'Can you provide examples from your resume that demonstrate your experience \\\n",
    "                  collaborating with cross-functional teams to integrate AI solutions?',\n",
    "                 'answer': 'In my previous job at \\'Fresh Digital Group,\\' I have collaborated with various teams like content writers \\\n",
    "                 and UI designers to brainstorm on building structure for chat applications and designing UI for mobile applications.'}}\n",
    "print(type(key_knowledge))\n",
    "add_knowledge.add_knowledge(key_knowledge)\n",
    "print(add_knowledge.get_knowledge())\n",
    "\n"
   ]
  },
  {
   "cell_type": "markdown",
   "id": "584752fd-6aca-4b57-8c67-512d2e8370b1",
   "metadata": {},
   "source": [
    "## Add additional information to the candidate record"
   ]
  },
  {
   "cell_type": "code",
   "execution_count": 14,
   "id": "39b49e94-c892-4cfc-8ff0-6a4345ffbaa9",
   "metadata": {},
   "outputs": [
    {
     "name": "stdout",
     "output_type": "stream",
     "text": [
      "{'resume': {'name': 'Harish Sista', 'contact': {'phone': '(201) 310-5683', 'email': 'hsista@stevens.edu', 'address': '2642 28th St, Apt 4F, Astoria, NY-11102'}, 'summary': 'Ph.D. Candidate researching in ML and NLP with 7+ years of experience working with ML models, Big Data, and Cloud Computing platforms and 2+ years of experience working in a professional environment. Spearheaded an Evidence Extraction and Fact Verification model using Prompt Engineering and tested it with various LLMs. Invented a Black Box Optimization model for online hyperparameter fine-tuning, significantly enhancing model performance in real-time applications.', 'skills': {'programming_languages': ['Python', 'SQL', 'NoSQL', 'C++', 'Java', 'Swift', 'HTML'], 'ai_tools': ['PyTorch', 'HuggingFace', 'TensorFlow', 'AutoML', 'SciKitLearn', 'NumPy'], 'llms': ['GPT', 'LLAMA', 'BLOOM', 'Lightning AI', 'BERT'], 'data_engineering': ['AWS EC2', 'FireWorks AI', 'Data Pipelines', 'Data Augmentation'], 'cloud_platforms': ['AWS', 'Google Cloud', 'GIT', 'Heroku'], 'research_interests': ['NLP', 'Generative AI', 'AutoML', 'Data Science']}, 'education': [{'degree': 'Ph.D. in Machine Learning', 'institution': 'Stevens Institute of Technology, Hoboken', 'department': 'Computer Engineering', 'dates': '01/2018 – Present'}, {'degree': 'M.Eng. in Software Engineering', 'institution': 'Stevens Institute of Technology, Hoboken', 'department': 'Electrical Engineering', 'dates': '01/2014 – 12/2015'}, {'degree': 'B.Eng. in Electronics and Communication Engineering', 'institution': 'M.V.S.R. Engineering College, Hyderabad, TG, India', 'dates': '08/2009 – 05/2013'}], 'research_experience': [{'position': 'Infinity Lab Researcher', 'institution': 'Stevens Institute of Technology – Hoboken, NJ', 'dates': '01/2018 – Present', 'responsibilities': ['Work with various LLMs to address the challenges of Fact Verification using Prompt Engineering, Text Generation, Classification and Evidence Extraction Tasks.', 'Built various Python Libraries using Multiprocessing to work efficiently with big datasets.', 'Surveyed and implemented various Attention Networks, DNNs and Generative Models to perform NLP tasks of Data Extraction, Modeling, Regression, Ranking, and Classification.', 'Collaborated in creating various Scientific, social media, and Misinformation Datasets.', 'Developed an AI based iOS application to perform MoCA test for early detection of Alzheimer’s.', 'Organized and maintained hardware and software for the department Lab-Server and built a personal Machine Learning RIG.']}], 'work_experience': [{'position': 'Research Assistant', 'institution': 'Stevens Institute of Technology – Hoboken, NJ', 'dates': '10/2018 – 09/2019', 'responsibilities': ['Created a chemistry literature dataset for the purpose of similarity search with search queries.', 'Preprocessed the dataset, using PDF conversion tools and NLTK library to remove the noise.', 'Produced a Novel Generative Ranking Model using Topic Modeling and KeyPhrase analysis, to extract most relevant papers related to the search query.']}, {'position': 'AI Engineer/iOS Developer', 'institution': 'Fresh Digital Group – NY, NY', 'dates': '07/2016 – 06/2017', 'responsibilities': ['Collaborated with Content Writers and Creative Team to individually design and deploy 30 chat applications for Amazon-Alexa which won appreciation from tech newsletters.', 'Developed various iOS, iMessage and VOD applications in conjunction with several teams.', 'Helped company obtain a preferred partnership with Amazon-Alexa and launching partnership with Microsoft-Cortana.']}], 'certifications': [{'name': 'Databases and SQL for Data Science with Python', 'organization': 'IBM, Coursera', 'date': '09/09/2024'}, {'name': 'Foundations of Objective-C App Development', 'organization': 'University of California, Irvine', 'date': '04/04/2016'}]}, 'cl': 'Hello Hiring Team, \\nI am pursuing my Ph.D. in the Computer Engineering department at Stevens Institute of Technology;             my research is focused on Natural Language Processing.             I work on applications related to the areas of Misinformation Research and Investigative Journalism using Evidence Extraction,             Fact Verification and Key-Phrase analysis; I research and work with Generative Models, Deep Learning models, Attention Networks,             and Large Language Models for Extraction and Verification Tasks.             My Dissertation Project is based on Fact-Verification and Evidence-Extraction using an Explainable Prompt-Engineering Model             I proposed. \\nEven though I chose the use cases of NLP as the focus of my research,             my work is more comprehensive than NLP-based models;             I have also created a low-cost Derivative-Free Optimization Method for parameter optimization in ML;             I am working on obtaining a Provisional Patent for this research.             I am immensely passionate about learning and analyzing the underlying Mathematical Concepts of Machine Learning Models;             I like educating myself on all the specifics of any problem statement, following the motivation of the research,             chronological evolution of the Problem-Solution framework, and feature analysis from historical to the SOTA models.             \\nI am currently seeking a job opportunity to hone my skills and work with a proficient team for an inspirational             cause where AI can be efficacious. \\nRegards, \\nHarish Sista, Ph.D. candidate, \\nComputer Engineering Department,             \\nStevens Institute of Technology.', 'additional skills': None, 'additional work experience': None, 'additional education': None, 'additional projects': None, 'additional achievements': None, 'additional certifications': None, 'additional knowledge': {'5+ years of experience in working with AI/LLMs': {'id': 0, 'answer': 'As a part of my six years of PhD research in NLP, I have worked on various projects based on knowledge extraction from scholarly data and evidence extraction and fact verification of social-media data using web-scraped real-world data. I used LLMs for building all these projects.'}, 'data preprocessing and feature engineering': {'id': 2, 'answer': \"In my PhD program, I have worked on different varieties of datasets like medical data(CORD-19, PubMed),                  social media data(CoVerifi), scholarly data(FEVER-dataset), and real-world data(AVeriTec).                  All these datasets use different feature spaces. To process these datasets                  I have used various feature engineering techniques like Prompt Engineering, Entity Extraction, key-word extraction,                  parts-of-speech tagging and text denoising using Python's RegEx library.\"}, 'collaborate with cross-functional teams to integrate AI solutions': {'id': 2, 'answer': \"In my previous job at 'Fresh Digital Group,' I have collaborated with various teams like content writers                  and UI designers to brainstorm on building structure for chat applications and designing UI for mobile applications.\"}}}\n"
     ]
    }
   ],
   "source": [
    "record.add_knowledge=add_knowledge.get_knowledge()\n",
    "\n",
    "print(record.get_record())"
   ]
  },
  {
   "cell_type": "markdown",
   "id": "2de3acc9-9161-4aa5-a60e-dcffe902ef35",
   "metadata": {},
   "source": [
    "## Generate new cover letter using candidate record"
   ]
  },
  {
   "cell_type": "code",
   "execution_count": 39,
   "id": "b33747cb-3687-4ff4-8e73-af90b9121231",
   "metadata": {},
   "outputs": [
    {
     "name": "stdout",
     "output_type": "stream",
     "text": [
      "Harish Sista  \n",
      "2642 28th St, Apt 4F  \n",
      "Astoria, NY 11102  \n",
      "(201) 310-5683  \n",
      "hsita@stevens.edu  \n",
      "\n",
      "[Date]  \n",
      "\n",
      "Hiring Team  \n",
      "Bose Corporation  \n",
      "\n",
      "Dear Hiring Team,\n",
      "\n",
      "I am writing to express my strong interest in the Co-Op position at Bose from January to June 2025. As a Ph.D. candidate focusing on Machine Learning in the Computer Engineering department at Stevens Institute of Technology, coupled with over 7 years of experience in developing machine learning models and implementing them in real-world applications, I am passionate about the intersection of audio technology and AI. I believe my background aligns well with Bose's mission to create transformative sound experiences.\n",
      "\n",
      "During my time at Stevens, I have led research initiatives involving Natural Language Processing (NLP) and has developed innovative algorithms using Prompt Engineering and various large language models. This includes my recent work on a Fact Verification model that has enhanced the reliability of information processing through advanced neural network methodologies. Such experience provides me with a solid foundation in machine learning, which is pivotal for prototyping and implementing real-time audio processing algorithms at Bose.\n",
      "\n",
      "Moreover, my role as an AI Engineer and iOS Developer at Fresh Digital Group allowed me to collaborate effectively with cross-disciplinary teams, focusing on creating applications for Amazon Alexa, which was recognized in tech newsletters for innovative design and deployment. This experience honed my skills in software engineering and deepened my understanding of user-centric design, critical for developing audio solutions that resonate with users.\n",
      "\n",
      "I also possess expertise in Python and libraries such as PyTorch and TensorFlow—skills that are directly relevant to the responsibilities of this role. Additionally, my research experience includes surveying and implementing advanced machine learning techniques to address various NLP tasks, which may translate well into audio source separation and speech enhancement challenges posed in your projects.\n",
      "\n",
      "The collaborative culture at Bose, where inquisitive minds come together to push the boundaries of sound technology, greatly excites me. I am particularly eager to contribute to projects that may lead to patents and publications, as I have a keen interest in advancing the field of audio processing through innovative research. My unique perspective and interdisciplinary experience, combined with my technical skills, position me well to contribute meaningfully to Bose’s objectives.\n",
      "\n",
      "Thank you for considering my application. I am looking forward to the opportunity to contribute my expertise to Bose while furthering my growth in machine learning and audio technology. I hope to discuss how my background, skills, and enthusiasms align with the vision and projects at Bose.\n",
      "\n",
      "Warm regards,\n",
      "\n",
      "Harish Sista  \n",
      "Ph.D. Candidate, Computer Engineering  \n",
      "Stevens Institute of Technology\n"
     ]
    }
   ],
   "source": [
    "with open('job_description2.txt', 'r') as f:\n",
    "    job_description2 = f.read()\n",
    "new_cl = CL_generator(record.get_record(), job_description2)\n",
    "print(new_cl)\n",
    "\n",
    "# We can give the user the capability of the number of words in a cover letter. "
   ]
  },
  {
   "cell_type": "markdown",
   "id": "120faf6c-5ebf-4ba9-a381-e21bc1419f14",
   "metadata": {},
   "source": [
    "## Generate new Resume"
   ]
  },
  {
   "cell_type": "code",
   "execution_count": 38,
   "id": "1a44e48b-f054-4830-923f-05aabc36db0c",
   "metadata": {},
   "outputs": [
    {
     "name": "stdout",
     "output_type": "stream",
     "text": [
      "{'optimized_resume': {'name': 'Harish Sista', 'contact_info': {'phone': '(201) 310-5683', 'email': 'hsita@stevens.edu', 'address': '2642 28th St, Apt 4F, Astoria, NY-11102'}, 'summary': 'Ph.D. candidate specializing in Machine Learning and Natural Language Processing with over 7 years of experience in deploying advanced analytics solutions using ML models, Big Data, and Cloud Computing platforms. Developed innovative statistical models and algorithms to address complex business challenges in real-world applications. Proven expertise in Fact Verification, Evidence Extraction, and Data Science, with strong knowledge of the latest advancements in AI/ML technologies.', 'skills': {'Programming_Languages': ['Python', 'SQL', 'PySpark', 'NoSQL', 'C++', 'Java', 'Swift', 'HTML'], 'AI_Tools': ['PyTorch', 'HuggingFace', 'TensorFlow', 'SciKitLearn', 'NumPy', 'Pandas', 'Matplotlib', 'Seaborn'], 'LLMs': ['GPT', 'LLAMA', 'FireWorks AI', 'BLOOM', 'BERT'], 'Data_Engineering': ['AWS EC2', 'Lightning AI', 'Data Pipelines', 'Data Augmentation'], 'Cloud_Platforms': ['AWS', 'Google Cloud', 'Heroku', 'GIT'], 'Research_Interests': ['NLP', 'Generative AI', 'AutoML', 'Data Science']}, 'education': [{'degree': 'Ph.D. in Machine Learning', 'department': 'Computer Engineering', 'institution': 'Stevens Institute of Technology', 'location': 'Hoboken, NJ', 'date': '01/2018 - Present'}, {'degree': 'M.Eng. in Software Engineering', 'department': 'Electrical Engineering', 'institution': 'Stevens Institute of Technology', 'location': 'Hoboken, NJ', 'date': '01/2014 - 12/2015'}, {'degree': 'B.Eng. in Electronics and Communication Engineering', 'institution': 'M.V.S.R. Engineering College', 'location': 'Hyderabad, TG, India', 'date': '08/2009 - 05/2013'}], 'research_experience': {'position': 'Researcher', 'institution': 'Infinity Lab, Stevens Institute of Technology', 'location': 'Hoboken, NJ', 'date': '01/2018 - Present', 'responsibilities': ['Developed and implemented advanced statistical models for fact verification, text generation, and classification using Prompt Engineering and LLMs.', 'Constructed Python libraries leveraging multiprocessing for efficient handling of large datasets, enhancing data wrangling and profiling practices.', 'Conducted research on Attention Networks, DNNs, and Generative Models to address NLP tasks, delivering actionable insights for strategic decision-making.', 'Collaborated on creating diverse datasets aimed at misinformation studies, aiding the advancement of data-driven research.']}, 'work_experience': [{'position': 'Research Assistant', 'institution': 'Stevens Institute of Technology', 'location': 'Hoboken, NJ', 'date': '10/2018 - 09/2019', 'responsibilities': ['Curated and preprocessed a large chemistry literature dataset, resulting in a 40% improvement in similarity search efficiency using NLTK.', 'Developed a Novel Generative Ranking Model utilizing topic modeling and key phrase analysis, enhancing the relevance of search queries.']}, {'position': 'AI Engineer/iOS Developer', 'institution': 'Fresh Digital Group - NY', 'date': '07/2016 - 06/2017', 'responsibilities': ['Spearheaded the design and deployment of 30+ chat applications for Amazon-Alexa, improving user engagement and receiving accolades from tech publications.', 'Collaborated with cross-functional teams to integrate machine learning solutions into iOS applications, enhancing features and user experience.']}], 'certifications': [{'title': 'Databases and SQL for Data Science with Python', 'issuer': 'IBM, Coursera', 'date': '09/09/2024'}, {'title': 'Foundations of Objective-C App Development', 'issuer': 'University of California, Irvine', 'date': '04/04/2016'}], 'additional_information': {'research_projects': [{'title': 'Explainable Prompt-Engineering Model for Fact Verification', 'details': 'Developed an innovative model for real-time fact verification that emphasizes interpretability and performance.'}], 'professional_skills': ['Strong analytical and problem-solving abilities for data interpretation and strategic outcomes.', 'Effective communication skills for articulating technical concepts to diverse audiences and fostering collaboration.', 'Robust project management capabilities with experience in leading teams and managing deadlines.']}}}\n"
     ]
    }
   ],
   "source": [
    "new_resume = generate_resume(record.get_record(), job_description2)\n",
    "print(new_resume)"
   ]
  },
  {
   "cell_type": "code",
   "execution_count": 17,
   "id": "18ce8519-2441-4eda-9e96-61ae3d17062a",
   "metadata": {},
   "outputs": [
    {
     "name": "stdout",
     "output_type": "stream",
     "text": [
      "{'keywords': [{'keyword': 'large-scale LLMs in the 10s to 100s of billions of parameters', 'question': \"How does the candidate's experience with LLMs apply to large-scale models with billions of parameters, and is there any specific mention or evidence of working at this scale?\"}, {'keyword': 'solid ML and RL software engineering and scientific research skills', 'question': 'Can the candidate provide details on their software engineering skills specifically related to reinforcement learning (RL) and how they have applied them in their research?'}, {'keyword': 'produced novel research related to fine-tuning LLMs or improving upon pre-trained LLMs', 'question': 'What specific examples of novel research related to fine-tuning LLMs or enhancements of pre-trained LLMs has the candidate produced or participated in?'}, {'keyword': 'specialized expertise in topics like fine-tuning, RLHF, LLM tool-use', 'question': 'Does the candidate demonstrate specialized expertise in RLHF (Reinforcement Learning from Human Feedback) or other LLM tool-use techniques as outlined in the job description?'}, {'keyword': 'democratizing access to modern AI technology', 'question': 'How does the candidate intend to contribute to the democratization of AI technology, and what initiatives or projects have they been involved in that align with this goal?'}, {'keyword': 'communicating the results of your findings', 'question': 'In what ways has the candidate effectively communicated their research findings, and can they provide specific examples of how they engaged different stakeholders?'}, {'keyword': 'small, fast-paced team', 'question': \"How has the candidate's experience prepared them to thrive in a small, fast-paced team environment, and what relevant examples can they provide?\"}]}\n"
     ]
    }
   ],
   "source": [
    "key_questions = screen_resume_CL(record.resume, new_cl, job_description2)\n",
    "print(key_questions)"
   ]
  },
  {
   "cell_type": "code",
   "execution_count": 18,
   "id": "b2edb3ea-46de-4255-80c5-a8523a56c0f2",
   "metadata": {},
   "outputs": [
    {
     "name": "stdout",
     "output_type": "stream",
     "text": [
      "<class 'dict'>\n",
      "{'5+ years of experience in working with AI/LLMs': {'id': 0, 'answer': 'As a part of my six years of PhD research in NLP, I have worked on various projects based on knowledge extraction from scholarly data and evidence extraction and fact verification of social-media data using web-scraped real-world data. I used LLMs for building all these projects.'}, 'data preprocessing and feature engineering': {'id': 2, 'answer': \"In my PhD program, I have worked on different varieties of datasets like medical data(CORD-19, PubMed),                  social media data(CoVerifi), scholarly data(FEVER-dataset), and real-world data(AVeriTec).                  All these datasets use different feature spaces. To process these datasets                  I have used various feature engineering techniques like Prompt Engineering, Entity Extraction, key-word extraction,                  parts-of-speech tagging and text denoising using Python's RegEx library.\"}, 'collaborate with cross-functional teams to integrate AI solutions': {'id': 2, 'answer': \"In my previous job at 'Fresh Digital Group,' I have collaborated with various teams like content writers                  and UI designers to brainstorm on building structure for chat applications and designing UI for mobile applications.\"}}\n"
     ]
    }
   ],
   "source": [
    "key_knowledge = {'large-scale LLMs in the 10s to 100s of billions of parameters': \n",
    "                 {'question': 'How does the candidate\\'s experience with LLMs apply to large-scale models with billions \\\n",
    "                 of parameters, and is there any specific mention or evidence of working at this scale?',\n",
    "                    'answer': 'In my Fact Verification Research, I have worked on GPT-4o(which has 1.7 Trillion parameters), \\\n",
    "                    LLAMA-3 8B, and MISTRAL 7B are close to 10B parameters. I have implemented these models on \\\n",
    "                    AWS EC2 and serverless environments like FireworksAI and LightningAI.' }, \n",
    "                 'specialized expertise in topics like fine-tuning, RLHF, LLM tool-use':{ \n",
    "                'question': 'Does the candidate demonstrate specialized expertise in RLHF \\\n",
    "                (Reinforcement Learning from Human Feedback) or other LLM tool-use techniques as outlined in the job description?',\n",
    "                 'answer': 'In my Fact Verification research, I have worked on various prompt engineering techniques to reduce \\\n",
    "                 hallucination in LLMs. I also built a resume application that takes feedback from the candidate to optimize their profile.'}, \n",
    "                 'democratizing access to modern AI technology': { \n",
    "                  'question': 'How does the candidate intend to contribute \\\n",
    "                     to the democratization of AI technology, and what initiatives or projects have they been involved in that align with this goal?',\n",
    "                 'answer': 'I am currently collaborating with a team of developers to convert my resume application to a web application and make it \\\n",
    "                 open-source for everyone on Git Hub.'}, \n",
    "                 }\n",
    "print(type(key_knowledge))\n",
    "add_knowledge.add_knowledge(key_knowledge)\n",
    "print(add_knowledge.get_knowledge())\n",
    "record.add_knowledge.update(add_knowledge.get_knowledge())"
   ]
  },
  {
   "cell_type": "markdown",
   "id": "0759724d-b763-4762-afaf-2161e358b2f8",
   "metadata": {},
   "source": [
    "# LinkedIn about"
   ]
  },
  {
   "cell_type": "code",
   "execution_count": 41,
   "id": "4ac98378-721f-427c-a213-222328c15246",
   "metadata": {
    "scrolled": true
   },
   "outputs": [
    {
     "name": "stdout",
     "output_type": "stream",
     "text": [
      "**Harish Sista - Machine Learning/Data Science/Data Engineering/Data Analysis Services**\n",
      "\n",
      "**Contact Information:**\n",
      "- Phone: (201) 310-5683\n",
      "- Email: hsita@stevens.edu\n",
      "- Address: 2642 28th St, Apt 4F, Astoria, NY 11102\n",
      "\n",
      "---\n",
      "\n",
      "**Professional Summary:**\n",
      "As a Ph.D. candidate specializing in Machine Learning and Natural Language Processing, I bring over 7 years of experience in developing and implementing sophisticated ML models, working with big data, and leveraging cloud computing platforms. My innovative work in evidence extraction and fact verification, particularly using prompt engineering and various large language models, showcases my capability to tackle complex challenges in data science.\n",
      "\n",
      "---\n",
      "\n",
      "**Core Services Offered:**\n",
      "\n",
      "1. **Machine Learning Model Development:**\n",
      "   - Design and implement advanced ML models tailored to specific datasets and business needs.\n",
      "   - Specialize in hyperparameter tuning using custom optimization techniques to enhance model accuracy and performance.\n",
      "\n",
      "2. **Natural Language Processing Solutions:**\n",
      "   - Expertise in addressing challenges in NLP through the development of custom NLP pipelines for text classification, information extraction, and sentiment analysis.\n",
      "   - Generate novel ranking models and key-phrase analysis frameworks ideal for research and application in misinformation detection and investigative journalism.\n",
      "\n",
      "3. **Data Engineering:**\n",
      "   - Proficient in building and optimizing data pipelines to ensure efficient data ingestion, transformation, and storage.\n",
      "   - Experience in AWS EC2 for cloud-based data management and Lightning AI for end-to-end data performance.\n",
      "\n",
      "4. **Data Analysis & Visualization:**\n",
      "   - Conduct comprehensive data analysis and provide actionable insights, utilizing tools such as Pandas, NumPy, and visualization libraries like Matplotlib and Seaborn.\n",
      "   - Develop and maintain data dashboards for real-time tracking and reporting.\n",
      "\n",
      "5. **Cloud Computing Solutions:**\n",
      "   - Deploy and manage machine learning applications and services on platforms like AWS and Google Cloud.\n",
      "   - Experience with version control using GIT for efficient project management and collaboration.\n",
      "\n",
      "6. **Research and Development:**\n",
      "   - Engage in collaborative R&D projects focusing on emerging AI technologies, such as Generative AI and AutoML.\n",
      "   - Publication of research findings in scientific journals and active contribution to AI-related datasets and resources.\n",
      "\n",
      "7. **Technical Training & Mentorship:**\n",
      "   - Provide training sessions on machine learning frameworks and tools, helping teams understand and leverage AI methods effectively.\n",
      "   - Act as a mentor for aspiring data scientists, sharing knowledge on best practices in ML and NLP.\n",
      "\n",
      "---\n",
      "\n",
      "**Why Choose Me?**\n",
      "- My rigorous academic experience combined with industry expertise positions me uniquely to bridge the gap between theoretical research and practical applications. I am driven by a passion for AI and a commitment to furthering impactful solutions. \n",
      "\n",
      "---\n",
      "\n",
      "**Education:**\n",
      "- Ph.D. in Machine Learning (Stevens Institute of Technology)\n",
      "- M.Eng. in Software Engineering (Stevens Institute of Technology)\n",
      "- B.Eng. in Electronics and Communication Engineering (M.V.S.R. Engineering College)\n",
      "\n",
      "---\n",
      "\n",
      "**Certifications:**\n",
      "- Databases and SQL for Data Science with Python (IBM, Coursera)\n",
      "- Foundations of Objective-C App Development (University of California, Irvine)\n",
      "\n",
      "---\n",
      "\n",
      "I am eager to connect with teams that are dedicated to leveraging advanced technologies for significant applications. Together, we can explore how my skills and research can contribute to your organization's objectives.\n"
     ]
    }
   ],
   "source": [
    "intro_system_prompt = 'You are a services description generator. \\\n",
    "    Given my information(#candidate_info), generate a summary of services I can offer for Machine Learning/Data Science/Data Engineering/Data Analysis jobs.'\n",
    "    \n",
    "intro_user_prompt = f'#candidate_info: {record.get_record()}'\n",
    "\n",
    "intro_text_worker = TextWorker(client=client, model_id=\"gpt-4o-mini\", sys_prompt=intro_system_prompt, user_prompt=intro_user_prompt)\n",
    "intro = intro_text_worker.get_output()\n",
    "print(intro)"
   ]
  }
 ],
 "metadata": {
  "kernelspec": {
   "display_name": "Python [conda env:py3.10] *",
   "language": "python",
   "name": "conda-env-py3.10-py"
  },
  "language_info": {
   "codemirror_mode": {
    "name": "ipython",
    "version": 3
   },
   "file_extension": ".py",
   "mimetype": "text/x-python",
   "name": "python",
   "nbconvert_exporter": "python",
   "pygments_lexer": "ipython3",
   "version": "3.10.13"
  }
 },
 "nbformat": 4,
 "nbformat_minor": 5
}
