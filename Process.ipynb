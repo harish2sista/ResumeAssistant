{
 "cells": [
  {
   "cell_type": "markdown",
   "id": "d4b09256-8097-4588-938f-37a2f16507c4",
   "metadata": {},
   "source": [
    "# Workbench for ResumeAssistant"
   ]
  },
  {
   "cell_type": "code",
   "execution_count": 1,
   "id": "79634a30-eea3-403d-935a-a66ce9bd5dcb",
   "metadata": {},
   "outputs": [],
   "source": [
    "from pdf2image import convert_from_path\n",
    "# ImageWorker takes in the path to jpg resume image and returns the contents of the resume in a json format. \n",
    "from resumeassistant.operator.worker import ImageWorker, TextWorker\n",
    "from resumeassistant.data.candidate_record import Record\n",
    "from openai import OpenAI\n",
    "import json"
   ]
  },
  {
   "cell_type": "markdown",
   "id": "4ad03abd-9b24-4e84-924b-07b7bd8f27ff",
   "metadata": {},
   "source": [
    "# PDF to jpg image converter function\n",
    "This function takes the input path for pdf-resume and output path for resume image. The output images are stored in 'jpg' format. "
   ]
  },
  {
   "cell_type": "code",
   "execution_count": 2,
   "id": "9bffade2-11d4-42ee-bd17-d24ce4ec87d3",
   "metadata": {},
   "outputs": [],
   "source": [
    "def get_img(pdf_path, img_path):\n",
    "      # Method for converting pdf resumes to jpg images. \n",
    "      images = convert_from_path(pdf_path)\n",
    "      # print(type(images))\n",
    "      for i in range(len(images)):\n",
    "        \n",
    "            # Save pages as images in the pdf\n",
    "          images[i].save(img_path + str(i) +'.jpg', 'JPEG')"
   ]
  },
  {
   "cell_type": "markdown",
   "id": "e22a3b50-9801-47d7-89c1-108bc0e3c9a5",
   "metadata": {},
   "source": [
    "This is the code to extract OpenAI key stored in `gpt_key.json` file. \\\n",
    "Format: \\\n",
    "    ```{ \n",
    "\t\"api_key\": \\<open_ai_key\\>\n",
    "    }```"
   ]
  },
  {
   "cell_type": "code",
   "execution_count": 3,
   "id": "35ffad11-5857-4851-bad4-e63cb22a1ade",
   "metadata": {},
   "outputs": [],
   "source": [
    "with open('gpt_key.json', 'r') as file:\n",
    "      data = json.load(file)\n",
    "      api_key = data[\"api_key\"]"
   ]
  },
  {
   "cell_type": "markdown",
   "id": "4459786a-75de-4155-b004-ac40c32c1b23",
   "metadata": {},
   "source": [
    "## Resume Parsing\n",
    "This is the code for converting the PDF resume to an image and parsing it using \"GPT-4o\". "
   ]
  },
  {
   "cell_type": "code",
   "execution_count": 4,
   "id": "a2858039-6d9f-4c40-b436-ec9e47dc1ecd",
   "metadata": {},
   "outputs": [
    {
     "name": "stdout",
     "output_type": "stream",
     "text": [
      "{'name': 'Harish Sista', 'contact_info': {'phone': '(201) 310-5683', 'email': 'hsista@stevens.edu', 'address': '2642 28th St, Apt 4F, Astoria, NY-11102'}, 'summary': 'Ph.D. Candidate researching in ML and NLP with 7+ years of experience working with ML models, Big Data, and Cloud Computing platforms and 2+ years of experience working in a professional environment. Spearheaded an Evidence Extraction and Fact Verification model using Prompt Engineering and tested it with various LLMs. Invented a Black Box Optimization model for online hyperparameter fine-tuning, significantly enhancing model performance in real-time applications.', 'skills': {'Programming_Languages': ['Python', 'SQL', 'C++', 'Java', 'Swift', 'HTML'], 'AI_Tools': ['PyTorch', 'HuggingFace', 'TensorFlow', 'AutoML', 'SciKitLearn', 'NumPy'], 'LLMs': ['GPT', 'LLAMA', 'BLOOM', 'BERT'], 'Data_Engineering': ['AWS EC2', 'FireWorks AI', 'Lightning AI', 'Data Pipelines', 'Data Augmentation'], 'Cloud_Platforms': ['AWS', 'Google Cloud', 'GIT', 'Heroku'], 'Research_Interests': ['NLP', 'Generative AI', 'AutoML', 'Data Science']}, 'education': [{'degree': 'Ph.D. in Machine Learning', 'department': 'Computer Engineering department', 'institution': 'Stevens Institute of Technology, Hoboken', 'dates': '01/2018 - Present'}, {'degree': 'M.Eng. in Software Engineering', 'department': 'Electrical Engineering department', 'institution': 'Stevens Institute of Technology, Hoboken', 'dates': '01/2014 - 12/2015'}, {'degree': 'B.Eng. in Electronics and Communication Engineering', 'institution': 'M.V.S.R. Engineering College, Hyderabad, TG, India', 'dates': '08/2009 - 05/2013'}], 'research_experience': [{'position': 'Infinity Lab', 'institution': 'Stevens Institute of Technology - Hoboken, NJ', 'dates': '01/2018 - Present', 'responsibilities': ['Work with various LLMs to address the challenges of Fact Verification using Prompt Engineering, Text Generation, Classification and Evidence Extraction Tasks.', 'Built various Python Libraries using Multiprocessing to work efficiently with big datasets.', 'Surveyed and implemented various Attention Networks, DNNs and Generative Models to perform NLP tasks of Data Extraction, Modeling, Regression, Ranking, and Classification.', 'Collaborated in creating various Scientific, social media, and Misinformation Datasets.', 'Developed an AI based iOS application to perform MoCA test for early detection of Alzheimer’s.']}], 'work_experience': [{'position': 'Research Assistant', 'institution': 'Stevens Institute of Technology - Hoboken, NJ', 'dates': '10/2018 - 09/2019', 'responsibilities': ['Created a chemistry literature dataset for the purpose of similarity search with search queries.', 'Preprocessed the dataset, using PDF conversion tools and NLTK library to remove the noise.', 'Produced a Novel Generative Ranking Model using Topic Modeling and KeyPhrase analysis, to extract most relevant papers related to the search query.']}, {'position': 'AI Engineer/iOS Developer', 'institution': 'Fresh Digital Group - NY, NY', 'dates': '07/2016 - 06/2017', 'responsibilities': ['Collaboration with Content Writers and Creative Team to individually design and deploy ~30 chat applications for Amazon-Alexa which won appreciation from tech newsletters.', 'Developed various iOS, iMessage and tvOS applications in conjunction with several teams.', 'Helped company obtain a preferred partnership with Amazon-Alexa and launching partnership with Microsoft-Cortana.']}], 'certifications': [{'title': 'Databases and SQL for Data Science with Python', 'institution': 'IBM, Coursera', 'date': '09/09/2024'}, {'title': 'Foundations of Objective-C App Development', 'institution': 'University of California, Irvine', 'date': '04/04/2016'}]}\n"
     ]
    }
   ],
   "source": [
    "client = OpenAI(api_key=api_key)\n",
    "get_img('Harish_Resume_PhD.pdf', './Harish_Resume')\n",
    "\n",
    "sys_prompt = \"You are a resume parser. Given the image of the resume, parse every section and provide the output in a JSON format.\"\n",
    "user_prompt=\"Can you parse all sections of this resume?\"\n",
    "\n",
    "image_worker = ImageWorker(client=client, model_id=\"gpt-4o-mini\", sys_prompt=sys_prompt, user_prompt=user_prompt)\n",
    "parsed_resume = image_worker.get_output('Harish_Resume0.jpg')\n",
    "print(parsed_resume)"
   ]
  },
  {
   "cell_type": "markdown",
   "id": "f7061118-f685-4836-8cd0-646c24949a76",
   "metadata": {},
   "source": [
    "## Add CV and additional information\n",
    "The current_cv instance keeps a record of the most recent updated Cover Letter and additional information on work experience, projects, achievements, and certifications. \n",
    "\n",
    "### Input arguments:\n",
    "`resume`=Parsed resume (Dict). \\\n",
    "`cv` = Cover letter text. \\\n",
    "`add_skills` = Additional skills not mentioned in the resume (Dict). \\\n",
    "`add_work_experience` = Additional work experience not mentioned in the resume (Dict). \\\n",
    "`add_education` = Additional education not mentioned in the resume (Dict). \\\n",
    "`add_projects` = Additional Projects not mentioned in the resume (Dict). \\\n",
    "`add_achievements` = Additional achievements not mentioned in the resume (Dict). \\\n",
    "`add_certifications` = Additional certifications not mentioned in the resume (Dict). \n",
    "\n",
    "#### additional_information format:\n",
    "```{``` \\\n",
    "```\"information\": text,``` \\\n",
    "```\"organization\": text,``` \\\n",
    "```\"date\": \"dd/mm/yyyy - dd/mm/yyyy\" (or) \"dd/mm/yyyy\"``` \\\n",
    "```}```\n",
    "\n",
    "The job_listing instance keeps a record of the requirements and description of the job posting. "
   ]
  },
  {
   "cell_type": "code",
   "execution_count": 5,
   "id": "29a6c5a8-649f-4d08-b625-1a680a9ec18b",
   "metadata": {},
   "outputs": [
    {
     "name": "stdout",
     "output_type": "stream",
     "text": [
      "dict_keys(['name', 'contact_info', 'summary', 'skills', 'education', 'research_experience', 'work_experience', 'certifications'])\n"
     ]
    }
   ],
   "source": [
    "print(parsed_resume.keys())"
   ]
  },
  {
   "cell_type": "code",
   "execution_count": 10,
   "id": "b1962296-a716-41bb-9b5a-480f16577eb8",
   "metadata": {},
   "outputs": [
    {
     "name": "stdout",
     "output_type": "stream",
     "text": [
      "{'name': 'Harish Sista', 'contact_info': {'phone': '(201) 310-5683', 'email': 'hsista@stevens.edu', 'address': '2642 28th St, Apt 4F, Astoria, NY-11102'}, 'summary': 'Ph.D. Candidate specializing in Machine Learning and Generative AI with over 7+ years of experience in building and optimizing ML models, data pipelines, and AI-driven applications. Proven track record of developing innovative solutions through rapid prototyping, feature engineering, and collaboration with cross-functional teams. Committed to leveraging cutting-edge technology to transform operations and enhance user experience.', 'skills': {'Programming_Languages': ['Python', 'SQL', 'C++', 'Java'], 'AI_Tools': ['PyTorch', 'HuggingFace', 'TensorFlow', 'AutoML', 'SciKitLearn', 'NumPy'], 'Data_Engineering': ['AWS EC2', 'Data Pipelines', 'Data Augmentation', 'Snowflake', 'Automated Workflows'], 'LLMs': ['GPT', 'LLAMA', 'BLOOM', 'BERT'], 'Cloud_Platforms': ['AWS', 'Google Cloud', 'GIT', 'Heroku'], 'Generative_AI': ['Prompt Engineering', 'Synthetic Data Generation', 'Automated Feature Engineering'], 'Research_Interests': ['NLP', 'Generative AI', 'Data Science', 'AutoML']}, 'education': [{'degree': 'Ph.D. in Machine Learning', 'department': 'Computer Engineering department', 'institution': 'Stevens Institute of Technology, Hoboken', 'dates': '01/2018 - Present'}, {'degree': 'M.Eng. in Software Engineering', 'department': 'Electrical Engineering department', 'institution': 'Stevens Institute of Technology, Hoboken', 'dates': '01/2014 - 12/2015'}, {'degree': 'B.Eng. in Electronics and Communication Engineering', 'institution': 'M.V.S.R. Engineering College, Hyderabad, TG, India', 'dates': '08/2009 - 05/2013'}], 'research_experience': [{'position': 'Infinity Lab', 'institution': 'Stevens Institute of Technology - Hoboken, NJ', 'dates': '01/2018 - Present', 'responsibilities': ['Implemented various AI and Generative AI techniques for data extraction and evidence verification.', 'Designed and developed Python libraries using multiprocessing to efficiently process large datasets.', 'Constructed data pipelines and conducted experiments with LLMs focusing on automated feature extraction and model evaluation frameworks.', 'Collaborated in building innovative datasets for fact-checking and misinformation detection.']}], 'work_experience': [{'position': 'Research Assistant', 'institution': 'Stevens Institute of Technology - Hoboken, NJ', 'dates': '10/2018 - 09/2019', 'responsibilities': ['Engineered a chemistry literature dataset for enhanced similarity searches and query responses.', 'Preprocessed and cleaned data utilizing advanced NLP techniques to enhance dataset quality.', 'Developed a generative ranking model leveraging AutoML techniques to identify key research papers, improving retrieval efficiency.']}, {'position': 'AI Engineer/iOS Developer', 'institution': 'Fresh Digital Group - NY, NY', 'dates': '07/2016 - 06/2017', 'responsibilities': ['Collaborated cross-functionally to design and deploy over 30 AI chat applications for Amazon-Alexa, receiving significant accolades.', 'Engineered interactive model demos showcasing functionality and enhancing user experience.', 'Drove partnership initiatives with Amazon-Alexa and Microsoft-Cortana to pioneer cutting-edge AI applications.']}], 'certifications': [{'title': 'Databases and SQL for Data Science with Python', 'institution': 'IBM, Coursera', 'date': '09/09/2024'}, {'title': 'Foundations of Objective-C App Development', 'institution': 'University of California, Irvine', 'date': '04/04/2016'}]}\n"
     ]
    }
   ],
   "source": [
    "record = Record(resume=parsed_resume)\n",
    "with open('job_description.txt', 'r') as f:\n",
    "    job_description = f.read()\n",
    "\n",
    "ro_system_prompt = 'You are a resume optimizer. \\\n",
    "Given the current resume(#current_resume) and the job description(#job_description), \\\n",
    "rewrite the current resume to highlight the relevant skills, experience, and quantifiable achievements that match the job description. \\\n",
    "Provide the output in a JSON format.'\n",
    "\n",
    "ro_user_prompt = f'Please optimize my current resume \\\n",
    "The current resume is provided under #current_resume \\\n",
    "and job description is provided under #job_description \\\n",
    "\\n\\t#current_resume: {record.resume} \\\n",
    "\\n\\t#job_description: {job_description}'\n",
    "\n",
    "ro_text_worker = TextWorker(client=client, model_id=\"gpt-4o-mini\", sys_prompt=ro_system_prompt, user_prompt=ro_user_prompt, json_format=True)\n",
    "new_resume = ro_text_worker.get_output()\n",
    "print(new_resume)"
   ]
  },
  {
   "cell_type": "markdown",
   "id": "963a0b0d-b45b-4490-beb0-6627f5947dfc",
   "metadata": {},
   "source": [
    "## Resume Screening\n",
    "In this section, the generated resume is screened based on how informative it is w.r.t the job posting. \n",
    "The resume screener gathers the keywords from the job description where the new resume fails to address, and a question requesting the missing information to address the unfulfilled requirements. \n"
   ]
  },
  {
   "cell_type": "code",
   "execution_count": 12,
   "id": "facf2e0e-418a-4fce-952c-dfba798e19cb",
   "metadata": {},
   "outputs": [
    {
     "name": "stdout",
     "output_type": "stream",
     "text": [
      "{'keywords': [{'keyword': '1-3 years of experience working on machine learning or AI projects', 'question': 'How does your experience align with the requirement for 1-3 years of experience specifically working on machine learning or AI projects, with a focus on model feature set preparation?'}, {'keyword': 'Proficiency with Snowflake', 'question': 'Can you elaborate on your experience with Snowflake or similar platforms for large-scale data management and pipeline creation, as this is mentioned as a preference in the job requirements?'}, {'keyword': 'AutoML tools and automated feature engineering techniques', 'question': 'What specific experience or familiarity do you have with AutoML tools and automated feature engineering techniques to support rapid model development, as highlighted in the job description?'}, {'keyword': 'Experience using AI tools in Snowflake', 'question': 'Have you had any experience using AI tools in Snowflake, like Cortex, for transforming data and/or feature engineering, which is noted as an extra consideration for this position?'}, {'keyword': 'GenAI Prompt Engineering', 'question': \"Could you provide details on any experience you've had with GenAI prompt engineering, specifically in terms of quickly developing prompts that effectively achieve objectives?\"}, {'keyword': 'Creation of interactive demos and/or model simulators', 'question': 'Do you have experience creating interactive demos and/or model simulators that clearly convey functionality and user experience, as mentioned as an important requirement?'}]}\n"
     ]
    }
   ],
   "source": [
    "ra_system_prompt = 'You are a resume screener and a question generator.\\\n",
    "                    given the current resume(#current_resume) and the job description(#job_description), \\\n",
    "                    provide keywords from the job description where the resume fails to address the requirements. \\\n",
    "                    Provide the keywords with a question describing how the resume fails to meet this requirement. \\\n",
    "                    Present the output in the following JSON output format: \\\n",
    "                    \\n\\t{\\\"keywords\\\": [{\"keyword\": system keyword, \"question\": system keyword question}]}'\n",
    "# ra_user_prompt = f'#current_resume: {record.resume} \\\n",
    "                    #job_description: {job_description}'\n",
    "\n",
    "ra_user_prompt = f'#current_resume: {new_resume} \\\n",
    "                    #job_description: {job_description}'\n",
    "\n",
    "ra_text_worker = TextWorker(client=client, model_id=\"gpt-4o-mini\", sys_prompt=ra_system_prompt, user_prompt=ra_user_prompt, json_format=True)\n",
    "system_insights = ra_text_worker.get_output()\n",
    "print(system_insights)"
   ]
  },
  {
   "cell_type": "code",
   "execution_count": null,
   "id": "e60a43e7-b651-4640-8631-d8a2c28d6f8e",
   "metadata": {},
   "outputs": [],
   "source": []
  }
 ],
 "metadata": {
  "kernelspec": {
   "display_name": "Python [conda env:py3.10] *",
   "language": "python",
   "name": "conda-env-py3.10-py"
  },
  "language_info": {
   "codemirror_mode": {
    "name": "ipython",
    "version": 3
   },
   "file_extension": ".py",
   "mimetype": "text/x-python",
   "name": "python",
   "nbconvert_exporter": "python",
   "pygments_lexer": "ipython3",
   "version": "3.10.13"
  }
 },
 "nbformat": 4,
 "nbformat_minor": 5
}
