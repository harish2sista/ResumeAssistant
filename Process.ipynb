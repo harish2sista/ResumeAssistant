{
 "cells": [
  {
   "cell_type": "markdown",
   "id": "d4b09256-8097-4588-938f-37a2f16507c4",
   "metadata": {},
   "source": [
    "# Workbench for ResumeAssistant"
   ]
  },
  {
   "cell_type": "code",
   "execution_count": 1,
   "id": "79634a30-eea3-403d-935a-a66ce9bd5dcb",
   "metadata": {},
   "outputs": [],
   "source": [
    "from pdf2image import convert_from_path\n",
    "# ImageWorker takes in the path to jpg resume image and returns the contents of the resume in a json format. \n",
    "from resumeassistant.operator.worker import ImageWorker, TextWorker\n",
    "from resumeassistant.data.candidate_record import Record\n",
    "from openai import OpenAI\n",
    "import json"
   ]
  },
  {
   "cell_type": "markdown",
   "id": "4ad03abd-9b24-4e84-924b-07b7bd8f27ff",
   "metadata": {},
   "source": [
    "# PDF to jpg image converter function\n",
    "This function takes the input path for pdf-resume and output path for resume image. The output images are stored in 'jpg' format. "
   ]
  },
  {
   "cell_type": "code",
   "execution_count": 2,
   "id": "9bffade2-11d4-42ee-bd17-d24ce4ec87d3",
   "metadata": {},
   "outputs": [],
   "source": [
    "def get_img(pdf_path, img_path):\n",
    "      # Method for converting pdf resumes to jpg images. \n",
    "      images = convert_from_path(pdf_path)\n",
    "      # print(type(images))\n",
    "      for i in range(len(images)):\n",
    "        \n",
    "            # Save pages as images in the pdf\n",
    "          images[i].save(img_path + str(i) +'.jpg', 'JPEG')"
   ]
  },
  {
   "cell_type": "markdown",
   "id": "e22a3b50-9801-47d7-89c1-108bc0e3c9a5",
   "metadata": {},
   "source": [
    "This is the code to extract OpenAI key stored in `gpt_key.json` file. \\\n",
    "Format: \\\n",
    "    ```{ \n",
    "\t\"api_key\": \\<open_ai_key\\>\n",
    "    }```"
   ]
  },
  {
   "cell_type": "code",
   "execution_count": 3,
   "id": "35ffad11-5857-4851-bad4-e63cb22a1ade",
   "metadata": {},
   "outputs": [],
   "source": [
    "with open('gpt_key.json', 'r') as file:\n",
    "      data = json.load(file)\n",
    "      api_key = data[\"api_key\"]"
   ]
  },
  {
   "cell_type": "markdown",
   "id": "4459786a-75de-4155-b004-ac40c32c1b23",
   "metadata": {},
   "source": [
    "## Resume Parsing\n",
    "This is the code for converting the PDF resume to an image and parsing it using \"GPT-4o\". "
   ]
  },
  {
   "cell_type": "code",
   "execution_count": 5,
   "id": "a2858039-6d9f-4c40-b436-ec9e47dc1ecd",
   "metadata": {},
   "outputs": [
    {
     "name": "stdout",
     "output_type": "stream",
     "text": [
      "{'name': 'Harish Sista', 'contact_information': {'phone': '(201) 310-5683', 'email': 'hsista@stevens.edu', 'address': '2642 28th St, Apt 4F, Astoria, NY-11102'}, 'summary': 'Ph.D. Candidate researching in ML and NLP with 7+ years of experience working with ML models, Big Data, and Cloud Computing platforms and 2+ years of experience working in a professional environment. Spearheaded an Evidence Extraction and Fact Verification model using Prompt Engineering and tested it with various LLMs. Invented a Black Box Optimization model for online hyperparameter fine-tuning, significantly enhancing model performance in real-time applications.', 'skills': {'programming_languages': ['Python', 'SQL', 'NoSQL', 'C++', 'Java', 'HTML'], 'ai_tools': ['PyTorch', 'HuggingFace', 'TensorFlow', 'AutoML', 'SciKitLearn', 'NumPy'], 'llms': ['GPT', 'LLaMA', 'BLOOM', 'BERT'], 'data_engineering': ['AWS EC2', 'FireWorks AI', 'Lightning AI', 'Data Pipelines', 'Data Augmentation'], 'cloud_platforms': ['AWS', 'Google Cloud', 'GIT', 'Heroku'], 'research_interests': ['NLP', 'Generative AI', 'Data Science', 'AutoML']}, 'education': [{'degree': 'Ph.D. in Machine Learning', 'department': 'Computer Engineering', 'institution': 'Stevens Institute of Technology, Hoboken', 'dates_attended': '01/2018 – Present'}, {'degree': 'M.Eng. in Software Engineering', 'department': 'Electrical Engineering', 'institution': 'Stevens Institute of Technology, Hoboken', 'dates_attended': '01/2014 – 12/2015'}, {'degree': 'B.Eng. in Electronics and Communication Engineering', 'institution': 'M.V.S.R. Engineering College, Hyderabad, TG, India', 'dates_attended': '08/2009 – 05/2013'}], 'research_experience': [{'title': 'Infinity Lab', 'location': 'Stevens Institute of Technology – Hoboken, NJ', 'dates': '01/2018 – Present', 'responsibilities': ['Work with various LLMs to address the challenges of Fact Verification using Prompt Engineering, Text Generation, Classification and Evidence Extraction Tasks.', 'Built various Python Libraries using Multiprocessing to work efficiently with big datasets.', 'Surveyed and implemented various Attention Networks, DNNs and Generative Models to perform NLP tasks of Data Extraction, Modeling, Regression, Ranking, and Classification.', 'Collaborated in creating various Scientific, social media, and Misinformation Datasets.', 'Developed an AI based iOS application to perform MoCA test for early detection of Alzheimer’s.', 'Organized and maintained hardware and software for the department Lab-Server and built a personal Machine Learning RIG.']}], 'work_experience': [{'title': 'Research Assistant', 'company': 'Stevens Institute of Technology', 'location': 'Hoboken, NJ', 'dates': '10/2018 – 09/2019', 'responsibilities': ['Created a chemistry literature dataset for the purpose of similarity search with search queries.', 'Preprocessed the dataset, using PDF conversion tools and NLTK library to remove the noise.', 'Produced a Novel Generative Ranking Model using Topic Modeling and KeyPhrase analysis, to extract most relevant papers related to the search query.']}, {'title': 'AI Engineer/iOS Developer', 'company': 'Fresh Digital Group', 'location': 'NY, NY', 'dates': '07/2016 – 06/2017', 'responsibilities': ['Collaborated with Content Writers and Creative Team to individually design and deploy 30 chat applications for Amazon-Alexa which won appreciation from tech newsletters.', 'Developed various iOS, iMessage and tvOS applications in conjunction with several teams.', 'Helped company obtain a preferred partnership with Amazon-Alexa and launching partnership with Microsoft-Cortana.']}], 'certifications': [{'name': 'Databases and SQL for Data Science with Python', 'institution': 'IBM, Coursera', 'date': '09/09/2024'}, {'name': 'Foundations of Objective-C App Development', 'institution': 'University of California, Irvine', 'date': '04/04/2016'}]}\n"
     ]
    }
   ],
   "source": [
    "client = OpenAI(api_key=api_key)\n",
    "get_img('Resume_PhD.pdf', './Harish_Resume')\n",
    "\n",
    "sys_prompt = \"You are a resume parser. Given the image of the resume, parse every section and provide the output in a JSON format.\"\n",
    "user_prompt=\"Can you parse all sections of this resume?\"\n",
    "\n",
    "image_worker = ImageWorker(client=client, model_id=\"gpt-4o-mini\", sys_prompt=sys_prompt, user_prompt=user_prompt)\n",
    "parsed_resume = image_worker.get_output('Harish_Resume0.jpg')\n",
    "print(parsed_resume)"
   ]
  },
  {
   "cell_type": "markdown",
   "id": "f7061118-f685-4836-8cd0-646c24949a76",
   "metadata": {},
   "source": [
    "## Add CV and additional information\n",
    "The current_cv instance keeps a record of the most recent updated Cover Letter and additional information on work experience, projects, achievements, and certifications. \n",
    "\n",
    "### Input arguments:\n",
    "`resume`=Parsed resume (Dict). \\\n",
    "`cv` = Cover letter text. \\\n",
    "`add_skills` = Additional skills not mentioned in the resume (Dict). \\\n",
    "`add_work_experience` = Additional work experience not mentioned in the resume (Dict). \\\n",
    "`add_education` = Additional education not mentioned in the resume (Dict). \\\n",
    "`add_projects` = Additional Projects not mentioned in the resume (Dict). \\\n",
    "`add_achievements` = Additional achievements not mentioned in the resume (Dict). \\\n",
    "`add_certifications` = Additional certifications not mentioned in the resume (Dict). \n",
    "\n",
    "#### additional_information format:\n",
    "```{``` \\\n",
    "```\"information\": text,``` \\\n",
    "```\"organization\": text,``` \\\n",
    "```\"date\": \"dd/mm/yyyy - dd/mm/yyyy\" (or) \"dd/mm/yyyy\"``` \\\n",
    "```}```\n",
    "\n",
    "The job_listing instance keeps a record of the requirements and description of the job posting. "
   ]
  },
  {
   "cell_type": "code",
   "execution_count": 6,
   "id": "29a6c5a8-649f-4d08-b625-1a680a9ec18b",
   "metadata": {},
   "outputs": [
    {
     "name": "stdout",
     "output_type": "stream",
     "text": [
      "dict_keys(['name', 'contact_information', 'summary', 'skills', 'education', 'research_experience', 'work_experience', 'certifications'])\n"
     ]
    }
   ],
   "source": [
    "print(parsed_resume.keys())"
   ]
  },
  {
   "cell_type": "code",
   "execution_count": 7,
   "id": "b1962296-a716-41bb-9b5a-480f16577eb8",
   "metadata": {},
   "outputs": [
    {
     "name": "stdout",
     "output_type": "stream",
     "text": [
      "{'name': 'Harish Sista', 'contact_information': {'phone': '(201) 310-5683', 'email': 'hsista@stevens.edu', 'address': '2642 28th St, Apt 4F, Astoria, NY-11102'}, 'summary': 'Ph.D. Candidate with over 7 years of experience in machine learning (ML), Natural Language Processing (NLP), and data engineering, specializing in AI solutions and automation. Proven expertise in building efficient data pipelines, creating high-quality datasets, and driving rapid prototyping of AI and Generative AI (GenAI) applications. 2+ years of professional experience collaborating with cross-functional teams to deliver innovative solutions and effectively enhancing performance throughout the machine learning lifecycle.', 'skills': {'programming_languages': ['Python', 'SQL', 'NoSQL', 'C++', 'Java', 'HTML'], 'ai_tools': ['PyTorch', 'HuggingFace', 'TensorFlow', 'AutoML', 'SciKitLearn', 'NumPy'], 'llms': ['GPT', 'LLaMA', 'BLOOM', 'BERT'], 'data_engineering': ['AWS EC2', 'FireWorks AI', 'Lightning AI', 'Data Pipelines', 'Data Augmentation', 'Snowflake'], 'cloud_platforms': ['AWS', 'Google Cloud', 'GIT', 'Heroku'], 'research_interests': ['NLP', 'Generative AI', 'Data Science', 'AutoML']}, 'education': [{'degree': 'Ph.D. in Machine Learning', 'department': 'Computer Engineering', 'institution': 'Stevens Institute of Technology, Hoboken', 'dates_attended': '01/2018 – Present'}, {'degree': 'M.Eng. in Software Engineering', 'department': 'Electrical Engineering', 'institution': 'Stevens Institute of Technology, Hoboken', 'dates_attended': '01/2014 – 12/2015'}, {'degree': 'B.Eng. in Electronics and Communication Engineering', 'institution': 'M.V.S.R. Engineering College, Hyderabad, TG, India', 'dates_attended': '08/2009 – 05/2013'}], 'research_experience': [{'title': 'Infinity Lab', 'location': 'Stevens Institute of Technology – Hoboken, NJ', 'dates': '01/2018 – Present', 'responsibilities': ['Led the development of an Evidence Extraction and Fact Verification model using Prompt Engineering, tested various LLMs for enhanced fact-checking capabilities.', 'Built robust data pipelines and automated workflows for processing large datasets, improving efficiency and reducing processing time by 30%.', 'Created and maintained a suite of Python libraries utilizing multiprocessing to handle big data challenges effectively.', 'Conducted comprehensive research into Attention Networks, DNNs, and Generative Models, achieving a 25% improvement in classification accuracy across NLP tasks.', 'Developed an AI-based iOS application for early Alzheimer’s detection, showcasing the potential of generative AI in healthcare.']}], 'work_experience': [{'title': 'Research Assistant', 'company': 'Stevens Institute of Technology', 'location': 'Hoboken, NJ', 'dates': '10/2018 – 09/2019', 'responsibilities': ['Developed a chemistry literature dataset that enhanced similarity search capabilities, reducing search times by over 40%.', 'Preprocessed large datasets using PDF conversion tools and NLTK, improving data quality and usability for further analysis.', 'Engineered a Novel Generative Ranking Model utilizing Topic Modeling and KeyPhrase analysis, successfully extracting the most relevant research papers for user queries.']}, {'title': 'AI Engineer/iOS Developer', 'company': 'Fresh Digital Group', 'location': 'NY, NY', 'dates': '07/2016 – 06/2017', 'responsibilities': ['Collaborated closely with cross-functional teams to design and deploy 30+ chat applications for Amazon Alexa, receiving recognition from major tech newsletters for innovation.', 'Led the development of multiple iOS and tvOS applications, ensuring seamless integration and functionality across platforms.', 'Contributed to the establishment of a preferred partnership with Amazon-Alexa, facilitating future opportunities with leading tech corporations.']}], 'certifications': [{'name': 'Databases and SQL for Data Science with Python', 'institution': 'IBM, Coursera', 'date': '09/09/2024'}, {'name': 'Foundations of Objective-C App Development', 'institution': 'University of California, Irvine', 'date': '04/04/2016'}]}\n"
     ]
    }
   ],
   "source": [
    "record = Record(resume=parsed_resume)\n",
    "with open('job_description.txt', 'r') as f:\n",
    "    job_description = f.read()\n",
    "\n",
    "ro_system_prompt = 'You are a resume optimizer. \\\n",
    "Given the current resume(#current_resume) and the job description(#job_description), \\\n",
    "rewrite the current resume to highlight the relevant skills, experience, and quantifiable achievements that match the job description. \\\n",
    "Provide the output in a JSON format.'\n",
    "\n",
    "ro_user_prompt = f'Please optimize my current resume \\\n",
    "The current resume is provided under #current_resume \\\n",
    "and job description is provided under #job_description \\\n",
    "\\n\\t#current_resume: {record.resume} \\\n",
    "\\n\\t#job_description: {job_description}'\n",
    "\n",
    "ro_text_worker = TextWorker(client=client, model_id=\"gpt-4o-mini\", sys_prompt=ro_system_prompt, user_prompt=ro_user_prompt, json_format=True)\n",
    "new_resume = ro_text_worker.get_output()\n",
    "print(new_resume)"
   ]
  },
  {
   "cell_type": "markdown",
   "id": "963a0b0d-b45b-4490-beb0-6627f5947dfc",
   "metadata": {},
   "source": [
    "## Resume Screening\n",
    "In this section, the generated resume is screened based on how informative it is w.r.t the job posting. \n",
    "The resume screener gathers the keywords from the job description where the new resume fails to address, and a question requesting the missing information to address the unfulfilled requirements. \n"
   ]
  },
  {
   "cell_type": "code",
   "execution_count": 12,
   "id": "facf2e0e-418a-4fce-952c-dfba798e19cb",
   "metadata": {},
   "outputs": [
    {
     "name": "stdout",
     "output_type": "stream",
     "text": [
      "{'keywords': [{'keyword': '1-3 years of experience working on machine learning or AI projects', 'question': 'How does your experience align with the requirement for 1-3 years of experience specifically working on machine learning or AI projects, with a focus on model feature set preparation?'}, {'keyword': 'Proficiency with Snowflake', 'question': 'Can you elaborate on your experience with Snowflake or similar platforms for large-scale data management and pipeline creation, as this is mentioned as a preference in the job requirements?'}, {'keyword': 'AutoML tools and automated feature engineering techniques', 'question': 'What specific experience or familiarity do you have with AutoML tools and automated feature engineering techniques to support rapid model development, as highlighted in the job description?'}, {'keyword': 'Experience using AI tools in Snowflake', 'question': 'Have you had any experience using AI tools in Snowflake, like Cortex, for transforming data and/or feature engineering, which is noted as an extra consideration for this position?'}, {'keyword': 'GenAI Prompt Engineering', 'question': \"Could you provide details on any experience you've had with GenAI prompt engineering, specifically in terms of quickly developing prompts that effectively achieve objectives?\"}, {'keyword': 'Creation of interactive demos and/or model simulators', 'question': 'Do you have experience creating interactive demos and/or model simulators that clearly convey functionality and user experience, as mentioned as an important requirement?'}]}\n"
     ]
    }
   ],
   "source": [
    "ra_system_prompt = 'You are a resume screener and a question generator.\\\n",
    "                    given the current resume(#current_resume) and the job description(#job_description), \\\n",
    "                    provide keywords from the job description where the resume fails to address the requirements. \\\n",
    "                    Provide the keywords with a question describing how the resume fails to meet this requirement. \\\n",
    "                    Present the output in the following JSON output format: \\\n",
    "                    \\n\\t{\\\"keywords\\\": [{\"keyword\": system keyword, \"question\": system keyword question}]}'\n",
    "# ra_user_prompt = f'#current_resume: {record.resume} \\\n",
    "                    #job_description: {job_description}'\n",
    "\n",
    "ra_user_prompt = f'#current_resume: {new_resume} \\\n",
    "                    #job_description: {job_description}'\n",
    "\n",
    "ra_text_worker = TextWorker(client=client, model_id=\"gpt-4o-mini\", sys_prompt=ra_system_prompt, user_prompt=ra_user_prompt, json_format=True)\n",
    "system_insights = ra_text_worker.get_output()\n",
    "print(system_insights)"
   ]
  },
  {
   "cell_type": "code",
   "execution_count": 11,
   "id": "9c58ec11-f753-4edd-a5be-103b6de966bb",
   "metadata": {},
   "outputs": [
    {
     "name": "stdout",
     "output_type": "stream",
     "text": [
      "[Your Name]  \n",
      "2642 28th St, Apt 4F  \n",
      "Astoria, NY-11102  \n",
      "(201) 310-5683  \n",
      "hsista@stevens.edu  \n",
      "[Date]  \n",
      "\n",
      "Hiring Team  \n",
      "ServiceNow  \n",
      "\n",
      "Dear Hiring Team,\n",
      "\n",
      "I am writing to express my interest in the Machine Learning Engineer role specializing in Transformational AI at ServiceNow, as advertised. As a Ph.D. candidate in Machine Learning at Stevens Institute of Technology, I have over seven years of experience in developing machine learning models and harnessing the power of cloud computing platforms, making me well-suited for this position.\n",
      "\n",
      "Throughout my research, I have focused on Natural Language Processing (NLP), with significant contributions in areas such as Evidence Extraction and Fact Verification using prompt engineering. My dissertation project encompasses building a sophisticated explainable prompt-engineering model to enhance the verification process across diverse datasets, which aligns with your team's commitment to leveraging generative AI technologies.\n",
      "\n",
      "My technical proficiency includes extensive experience with Python and SQL, as well as a meticulous understanding of AWS and data engineering tools. I have been responsible for creating efficient data pipelines in previous roles, which helped automate workflows and streamline data preparation processes. At the Infinity Lab at Stevens Institute, I built Python libraries using multiprocessing techniques to handle big datasets efficiently, aligning with the data pipeline development and collaboration responsibilities outlined in the job description.\n",
      "\n",
      "Additionally, I have designed and prototyped numerous AI-driven applications, including an iOS application aimed at early Alzheimer’s detection, which demonstrates my ability to rapidly move from concept to working prototype. My teamwork experience, notably in collaborating with multidisciplinary teams to innovate AI solutions, resonates with your desire for a candidate who can foster innovation.\n",
      "\n",
      "Moreover, I have a proven record of engaging with the latest advancements in AI, including prompt engineering with large language models like GPT and BERT, which directly speaks to the role's emphasis on quick iterative experimentation and feature engineering. My commitment to continuous learning and applying state-of-the-art techniques reflects ServiceNow's emphasis on growth and transformation, as outlined in your vision.\n",
      "\n",
      "I am excited about the opportunity to contribute to your purpose of making the world work better for everyone through cutting-edge AI technology. I believe my background in research, data engineering, and machine learning equips me to bring meaningful value to the team at ServiceNow.\n",
      "\n",
      "Thank you for considering my application. I look forward to the possibility of discussing how my skills and experiences can contribute to the innovative work at ServiceNow.\n",
      "\n",
      "Warm regards,\n",
      "\n",
      "Harish Sista  \n",
      "Ph.D. Candidate  \n",
      "Computer Engineering Department  \n",
      "Stevens Institute of Technology  \n"
     ]
    }
   ],
   "source": [
    "cl_system_prompt = \"You are a cover letter generator, given the candidates latest resume(#current_resume), \\\n",
    "                    old coverletter(#old_cover_letter) and job description(#job_description). \\\n",
    "                    Generate a cover letter relevant to the job description highlighting the candidate's skills and achievements\n",
    "\n",
    "old_cl = \"Hello Hiring Team, \\nI am pursuing my Ph.D. in the Computer Engineering department at Stevens Institute of Technology; \\\n",
    "            my research is focused on Natural Language Processing. \\\n",
    "            I work on applications related to the areas of Misinformation Research and Investigative Journalism using Evidence Extraction, \\\n",
    "            Fact Verification and Key-Phrase analysis; I research and work with Generative Models, Deep Learning models, Attention Networks, \\\n",
    "            and Large Language Models for Extraction and Verification Tasks. \\\n",
    "            My Dissertation Project is based on Fact-Verification and Evidence-Extraction using an Explainable Prompt-Engineering Model \\\n",
    "            I proposed. \\nEven though I chose the use cases of NLP as the focus of my research, \\\n",
    "            my work is more comprehensive than NLP-based models; \\\n",
    "            I have also created a low-cost Derivative-Free Optimization Method for parameter optimization in ML; \\\n",
    "            I am working on obtaining a Provisional Patent for this research. \\\n",
    "            I am immensely passionate about learning and analyzing the underlying Mathematical Concepts of Machine Learning Models; \\\n",
    "            I like educating myself on all the specifics of any problem statement, following the motivation of the research, \\\n",
    "            chronological evolution of the Problem-Solution framework, and feature analysis from historical to the SOTA models. \\\n",
    "            \\nI am currently seeking a job opportunity to hone my skills and work with a proficient team for an inspirational \\\n",
    "            cause where AI can be efficacious. \\nRegards, \\nHarish Sista, Ph.D. candidate, \\nComputer Engineering Department, \\\n",
    "            \\nStevens Institute of Technology.\"\n",
    "\n",
    "cl_user_prompt = f'#current_resume: {parsed_resume} \\\n",
    "                    #old_cover_letter: {old_cl} \\\n",
    "                    #job_description: {job_description}'\n",
    "\n",
    "\n",
    "cl_text_worker = TextWorker(client=client, model_id=\"gpt-4o-mini\", sys_prompt=cl_system_prompt, user_prompt=cl_user_prompt)\n",
    "new_cl = cl_text_worker.get_output()\n",
    "print(new_cl)"
   ]
  },
  {
   "cell_type": "code",
   "execution_count": null,
   "id": "a5e01e40-7783-42ec-8977-ac3406a2935d",
   "metadata": {},
   "outputs": [],
   "source": []
  }
 ],
 "metadata": {
  "kernelspec": {
   "display_name": "Python [conda env:py3.10] *",
   "language": "python",
   "name": "conda-env-py3.10-py"
  },
  "language_info": {
   "codemirror_mode": {
    "name": "ipython",
    "version": 3
   },
   "file_extension": ".py",
   "mimetype": "text/x-python",
   "name": "python",
   "nbconvert_exporter": "python",
   "pygments_lexer": "ipython3",
   "version": "3.10.13"
  }
 },
 "nbformat": 4,
 "nbformat_minor": 5
}
